{
 "cells": [
  {
   "cell_type": "markdown",
   "id": "premier-milan",
   "metadata": {},
   "source": [
    "# Home Value Prediction\n",
    "\n",
    "## Project Goals\n",
    "* Identify key features that can be used to create an effective predictive model.\n",
    "* Use regression models to make house price predictions.\n",
    "* Use findings to make recommendations and establish a foundation for future work to improve model's performance."
   ]
  },
  {
   "cell_type": "markdown",
   "id": "going-assembly",
   "metadata": {},
   "source": [
    "## Imports"
   ]
  },
  {
   "cell_type": "code",
   "execution_count": 1,
   "id": "divided-poster",
   "metadata": {},
   "outputs": [],
   "source": [
    "#list all of the imports I used in this notebook or in a module\n",
    "import pandas as pd\n",
    "import numpy as np\n",
    "import matplotlib.pyplot as plt\n",
    "import seaborn as sns\n",
    "import os\n",
    "from scipy import stats\n",
    "from sklearn.model_selection import train_test_split\n",
    "\n",
    "import warnings\n",
    "warnings.filterwarnings(\"ignore\")\n",
    "\n",
    "#import my personal modules created for this report\n",
    "import wrangle as w\n",
    "#import explore as e\n",
    "import model as m"
   ]
  },
  {
   "cell_type": "markdown",
   "id": "criminal-glory",
   "metadata": {},
   "source": [
    "## Acquire\n",
    "\n",
    "* Data acquired from the Codeup mySQL server on November 16, 2022\n",
    "* It contained 52,441 rows and 6 columns\n",
    "* Each observation represents a single-family home\n",
    "* Each column represents a feature of those homes"
   ]
  },
  {
   "cell_type": "code",
   "execution_count": 2,
   "id": "8e7703ef",
   "metadata": {},
   "outputs": [],
   "source": [
    "#import unclean data from Codeup mySQL server\n",
    "zillow_unclean = w.acquire_zillow_data()"
   ]
  },
  {
   "cell_type": "markdown",
   "id": "impossible-bible",
   "metadata": {},
   "source": [
    "## Prepare\n",
    "\n",
    "#### Dropped rows:\n",
    "* Duplicates   \n",
    "* Rows where ```bedrooms``` == 0 AND ```bathrooms``` == 0\n",
    "* Rows where ```square_feet``` >= 10,000  (because these are large and can scew the data)\n",
    "* Rows where ```home_value``` >= 1,600,000 (because these values are large and can scew the data)\n",
    "* Rows containing null values in any column\n",
    "\n",
    "#### Created features\n",
    "* ```county``` (names based on the fips code):  \n",
    "    - 6037: LA\n",
    "    - 6059: Orange \n",
    "    - 6111: Ventura \n",
    "* ```bath_bed_ratio``` \n",
    "    - Column displaying bathrooms/bedrooms\n",
    "* ```2017_age```\n",
    "    - Column diplaying age of house in 2017 (2017-year_built)\n",
    "\n",
    "#### Other prep\n",
    "* Split data into train, validate, and test (65/20/15)"
   ]
  },
  {
   "cell_type": "code",
   "execution_count": 3,
   "id": "b70e0cdc",
   "metadata": {},
   "outputs": [],
   "source": [
    "#clean data\n",
    "zillow = w.clean_zillow(zillow_unclean)\n",
    "#split data\n",
    "train, validate, test = w.split_data(zillow)"
   ]
  },
  {
   "cell_type": "markdown",
   "id": "cf54e5e1",
   "metadata": {},
   "source": [
    "### Data dictionary\n",
    "| Feature | Definition | Type |\n",
    "|:--------|:-----------|:-------\n",
    "|**parcelid**| Definition| *int*|\n",
    "| **bathroooms** | The number of bathrooms in the home. |*float*|\n",
    "| **bedrooms** | The number of bedrooms in the home.|*int*|\n",
    "|**square_feet**| Square footage of the house| *int*|\n",
    "|**year_built**| Year the house was built| *int*|\n",
    "|**bath_bed_ratio**| The number of bathrooms divided by number of bedrooms| *float*|\n",
    "|**county**| Name of the county where the house is located| *string*|\n",
    "|**2017_age**| Age of the house in 2017 (when the data was collected| *int*|\n",
    "|**Target variable**\n",
    "|**home_value**| The tax-assessed value of the home. | *float* |"
   ]
  },
  {
   "cell_type": "markdown",
   "id": "e05229cb",
   "metadata": {},
   "source": [
    "### A look at the data"
   ]
  },
  {
   "cell_type": "code",
   "execution_count": 4,
   "id": "f8f1eb5e",
   "metadata": {
    "scrolled": false
   },
   "outputs": [
    {
     "data": {
      "text/html": [
       "<div>\n",
       "<style scoped>\n",
       "    .dataframe tbody tr th:only-of-type {\n",
       "        vertical-align: middle;\n",
       "    }\n",
       "\n",
       "    .dataframe tbody tr th {\n",
       "        vertical-align: top;\n",
       "    }\n",
       "\n",
       "    .dataframe thead th {\n",
       "        text-align: right;\n",
       "    }\n",
       "</style>\n",
       "<table border=\"1\" class=\"dataframe\">\n",
       "  <thead>\n",
       "    <tr style=\"text-align: right;\">\n",
       "      <th></th>\n",
       "      <th>parcelid</th>\n",
       "      <th>bathrooms</th>\n",
       "      <th>bedrooms</th>\n",
       "      <th>home_value</th>\n",
       "      <th>square_feet</th>\n",
       "      <th>year_built</th>\n",
       "      <th>bath_bed_ratio</th>\n",
       "      <th>county</th>\n",
       "      <th>2017_age</th>\n",
       "    </tr>\n",
       "  </thead>\n",
       "  <tbody>\n",
       "    <tr>\n",
       "      <th>43055</th>\n",
       "      <td>13955676</td>\n",
       "      <td>2.5</td>\n",
       "      <td>3</td>\n",
       "      <td>467000.0</td>\n",
       "      <td>1509</td>\n",
       "      <td>2001</td>\n",
       "      <td>0.833333</td>\n",
       "      <td>Orange</td>\n",
       "      <td>16</td>\n",
       "    </tr>\n",
       "    <tr>\n",
       "      <th>27580</th>\n",
       "      <td>14184733</td>\n",
       "      <td>3.0</td>\n",
       "      <td>5</td>\n",
       "      <td>411581.0</td>\n",
       "      <td>2822</td>\n",
       "      <td>1993</td>\n",
       "      <td>0.600000</td>\n",
       "      <td>Orange</td>\n",
       "      <td>24</td>\n",
       "    </tr>\n",
       "    <tr>\n",
       "      <th>38642</th>\n",
       "      <td>10889898</td>\n",
       "      <td>1.0</td>\n",
       "      <td>2</td>\n",
       "      <td>156917.0</td>\n",
       "      <td>878</td>\n",
       "      <td>1940</td>\n",
       "      <td>0.500000</td>\n",
       "      <td>LA</td>\n",
       "      <td>77</td>\n",
       "    </tr>\n",
       "    <tr>\n",
       "      <th>40986</th>\n",
       "      <td>12579090</td>\n",
       "      <td>2.0</td>\n",
       "      <td>4</td>\n",
       "      <td>264953.0</td>\n",
       "      <td>1620</td>\n",
       "      <td>1964</td>\n",
       "      <td>0.500000</td>\n",
       "      <td>LA</td>\n",
       "      <td>53</td>\n",
       "    </tr>\n",
       "    <tr>\n",
       "      <th>37881</th>\n",
       "      <td>12919161</td>\n",
       "      <td>2.0</td>\n",
       "      <td>4</td>\n",
       "      <td>402200.0</td>\n",
       "      <td>1128</td>\n",
       "      <td>1955</td>\n",
       "      <td>0.500000</td>\n",
       "      <td>LA</td>\n",
       "      <td>62</td>\n",
       "    </tr>\n",
       "  </tbody>\n",
       "</table>\n",
       "</div>"
      ],
      "text/plain": [
       "       parcelid  bathrooms  bedrooms  home_value  square_feet  year_built  \\\n",
       "43055  13955676        2.5         3    467000.0         1509        2001   \n",
       "27580  14184733        3.0         5    411581.0         2822        1993   \n",
       "38642  10889898        1.0         2    156917.0          878        1940   \n",
       "40986  12579090        2.0         4    264953.0         1620        1964   \n",
       "37881  12919161        2.0         4    402200.0         1128        1955   \n",
       "\n",
       "       bath_bed_ratio  county  2017_age  \n",
       "43055        0.833333  Orange        16  \n",
       "27580        0.600000  Orange        24  \n",
       "38642        0.500000      LA        77  \n",
       "40986        0.500000      LA        53  \n",
       "37881        0.500000      LA        62  "
      ]
     },
     "execution_count": 4,
     "metadata": {},
     "output_type": "execute_result"
    }
   ],
   "source": [
    "#show thefirst few rows of the train data\n",
    "train.head()"
   ]
  },
  {
   "cell_type": "markdown",
   "id": "immediate-mirror",
   "metadata": {},
   "source": [
    "## Explore"
   ]
  },
  {
   "cell_type": "markdown",
   "id": "2b06e4e4",
   "metadata": {},
   "source": [
    "### 1. Is there a significant relationship between square footage and home value?"
   ]
  },
  {
   "cell_type": "code",
   "execution_count": 5,
   "id": "5a7a199e",
   "metadata": {
    "scrolled": true
   },
   "outputs": [
    {
     "data": {
      "image/png": "[encoded data removed]",
      "text/plain": [
       "<Figure size 360x360 with 1 Axes>"
      ]
     },
     "metadata": {
      "needs_background": "light"
     },
     "output_type": "display_data"
    }
   ],
   "source": [
    "sns.lmplot('square_feet', 'home_value', data=train, line_kws={'color':'red'});"
   ]
  },
  {
   "cell_type": "markdown",
   "id": "f1ceae24",
   "metadata": {},
   "source": [
    "**As suspected, it looks like larger homes have a higher home value**"
   ]
  },
  {
   "cell_type": "markdown",
   "id": "2087f188",
   "metadata": {},
   "source": [
    "**Set Hypothesis**\n",
    "\n",
    "$H_0$ = There is no linear correlation between square feet and home value \n",
    "\n",
    "$H_a$ = There is a linear correlation between square feet and home value "
   ]
  },
  {
   "cell_type": "code",
   "execution_count": 6,
   "id": "ac554075",
   "metadata": {},
   "outputs": [
    {
     "data": {
      "image/png": "[encoded data removed]",
      "text/plain": [
       "<Figure size 432x288 with 1 Axes>"
      ]
     },
     "metadata": {
      "needs_background": "light"
     },
     "output_type": "display_data"
    }
   ],
   "source": [
    "sns.histplot(data = train, x = 'square_feet')\n",
    "plt.title('Distribution of Homes by Square Footage')\n",
    "plt.show()"
   ]
  },
  {
   "cell_type": "markdown",
   "id": "63d5ca49",
   "metadata": {},
   "source": [
    "**There is a skewed distribution so I will use the Spearman's R test**"
   ]
  },
  {
   "cell_type": "code",
   "execution_count": 7,
   "id": "822cdb3a",
   "metadata": {},
   "outputs": [
    {
     "name": "stdout",
     "output_type": "stream",
     "text": [
      "Correlation Coefficient: 0.48\n",
      "p-value: 0.0\n"
     ]
    }
   ],
   "source": [
    "#run spearman test to see if there is any linear correlation\n",
    "corr, p = stats.spearmanr(train.square_feet, train.home_value)\n",
    "#Running a significance test to determine whether we can reject the null:\n",
    "\n",
    "#print results\n",
    "print(f\"Correlation Coefficient: {corr:.2}\\np-value: {p:.4}\")"
   ]
  },
  {
   "cell_type": "markdown",
   "id": "14be6b76",
   "metadata": {},
   "source": [
    "**p < alpha, so we can reject the null hypothesis and say there is probably a a linear correlation between square feet and home value, but not a very strong one.** "
   ]
  },
  {
   "cell_type": "markdown",
   "id": "d4968c6b",
   "metadata": {},
   "source": [
    "### 2. Is there a significant relationship between the bath-to-bed ratio and home value? "
   ]
  },
  {
   "cell_type": "code",
   "execution_count": 8,
   "id": "fb9f296a",
   "metadata": {},
   "outputs": [
    {
     "data": {
      "image/png": "[encoded data removed]",
      "text/plain": [
       "<Figure size 360x360 with 1 Axes>"
      ]
     },
     "metadata": {
      "needs_background": "light"
     },
     "output_type": "display_data"
    }
   ],
   "source": [
    "sns.lmplot('bath_bed_ratio', 'home_value', data=train, line_kws={'color':'red'});"
   ]
  },
  {
   "cell_type": "markdown",
   "id": "397c7299",
   "metadata": {},
   "source": [
    "**It looks like there is a linear correlation between bath_bed_ratio and home value**"
   ]
  },
  {
   "cell_type": "markdown",
   "id": "45acc229",
   "metadata": {},
   "source": [
    "**Set Hypothesis**\n",
    "\n",
    "$H_0$ = There is no linear correlation between bath_bed_ratio and home value \n",
    "\n",
    "$H_a$ = There is a linear correlation between bath_bed_ratio and home value "
   ]
  },
  {
   "cell_type": "code",
   "execution_count": 9,
   "id": "53466a5b",
   "metadata": {},
   "outputs": [
    {
     "name": "stdout",
     "output_type": "stream",
     "text": [
      "Correlation Coefficient: 0.32\n",
      "p-value: 0.0\n"
     ]
    }
   ],
   "source": [
    "#run spearman test to see if there is any linear correlation\n",
    "corr, p = stats.spearmanr(train.bath_bed_ratio, train.home_value)\n",
    "#Running a significance test to determine whether we can reject the null:\n",
    "\n",
    "#print results\n",
    "print(f\"Correlation Coefficient: {corr:.2}\\np-value: {p:.4}\")"
   ]
  },
  {
   "cell_type": "markdown",
   "id": "81554949",
   "metadata": {},
   "source": [
    "**p < alpha, so we can reject the null hypothesis and say there is probably a a linear correlation between bath_bed_ratio and home value.** "
   ]
  },
  {
   "cell_type": "markdown",
   "id": "c85e2983",
   "metadata": {},
   "source": [
    "## 3. Does location have a relationship with home value?"
   ]
  },
  {
   "cell_type": "code",
   "execution_count": 10,
   "id": "158db00e",
   "metadata": {},
   "outputs": [
    {
     "data": {
      "image/png": "[encoded data removed]",
      "text/plain": [
       "<Figure size 432x288 with 1 Axes>"
      ]
     },
     "metadata": {
      "needs_background": "light"
     },
     "output_type": "display_data"
    }
   ],
   "source": [
    "sns.boxplot(data = train, x = 'county', y = 'home_value' )\n",
    "plt.title('Plot of Home Value by County')\n",
    "plt.show()"
   ]
  },
  {
   "cell_type": "markdown",
   "id": "621dbe35",
   "metadata": {},
   "source": [
    "**It looks like there is a difference in home values in each county.**"
   ]
  },
  {
   "cell_type": "markdown",
   "id": "aad81067",
   "metadata": {},
   "source": [
    "$H_0$ = Average home values of those in LA county, Orange county and Ventura county are the same.\n",
    "\n",
    "$H_a$ = Average home values of those in LA county, Orange county and Ventura county are not the same."
   ]
  },
  {
   "cell_type": "code",
   "execution_count": 11,
   "id": "8e1f14b8",
   "metadata": {},
   "outputs": [
    {
     "name": "stdout",
     "output_type": "stream",
     "text": [
      "F-score: 495.59484\n",
      "p-value: 9.732e-213\n"
     ]
    }
   ],
   "source": [
    "#splitting data into a df per county:\n",
    "la = train[train.county == 'LA'].home_value\n",
    "orange = train[train.county == 'Orange'].home_value\n",
    "ventura = train[train.county == 'Ventura'].home_value\n",
    "\n",
    "#Running a one-way ANOVA (there is a single independent variable - 'county'):\n",
    "f, p = stats.f_oneway(la, orange, ventura)\n",
    "\n",
    "print(f\"F-score: {f:.8}\\np-value: {p:.4}\")"
   ]
  },
  {
   "cell_type": "markdown",
   "id": "20b67a47",
   "metadata": {},
   "source": [
    "**Since p < alpha we can reject the null hypothesis and say Average home values of those in LA county, Orange county and Ventura county are not the same.**"
   ]
  },
  {
   "cell_type": "markdown",
   "id": "b20e7292",
   "metadata": {},
   "source": [
    "## 4. Is there a significant relationship between age of the home and home value?"
   ]
  },
  {
   "cell_type": "code",
   "execution_count": 12,
   "id": "65fe4743",
   "metadata": {},
   "outputs": [
    {
     "data": {
      "image/png": "[encoded data removed]",
      "text/plain": [
       "<Figure size 360x360 with 1 Axes>"
      ]
     },
     "metadata": {
      "needs_background": "light"
     },
     "output_type": "display_data"
    }
   ],
   "source": [
    "sns.lmplot('2017_age', 'home_value', data=train, line_kws={'color':'red'});"
   ]
  },
  {
   "cell_type": "markdown",
   "id": "4ac72c27",
   "metadata": {},
   "source": [
    "**It looks like there is a linear correlation between bath_bed_ratio and home value**"
   ]
  },
  {
   "cell_type": "markdown",
   "id": "cf686f21",
   "metadata": {},
   "source": [
    "**Set Hypothesis**\n",
    "\n",
    "$H_0$ = There is no linear correlation between 2017_age and home value \n",
    "\n",
    "$H_a$ = There is a linear correlation between 2017_age and home value "
   ]
  },
  {
   "cell_type": "code",
   "execution_count": 13,
   "id": "574d3b43",
   "metadata": {},
   "outputs": [
    {
     "data": {
      "image/png": "[encoded data removed]",
      "text/plain": [
       "<Figure size 432x288 with 1 Axes>"
      ]
     },
     "metadata": {
      "needs_background": "light"
     },
     "output_type": "display_data"
    }
   ],
   "source": [
    "sns.histplot(data = train, x = '2017_age')\n",
    "plt.title('Distribution of Homes by 2017 age')\n",
    "plt.show()"
   ]
  },
  {
   "cell_type": "code",
   "execution_count": 14,
   "id": "a2b988e7",
   "metadata": {},
   "outputs": [
    {
     "name": "stdout",
     "output_type": "stream",
     "text": [
      "Correlation Coefficient: -0.2509302\n",
      "p-value: 0.0\n"
     ]
    }
   ],
   "source": [
    "#run spearman test to see if there is any linear correlation\n",
    "corr, p = stats.pearsonr(train['2017_age'], train.home_value)\n",
    "#Running a significance test to determine whether we can reject the null:\n",
    "\n",
    "#print results\n",
    "print(f\"Correlation Coefficient: {corr:.8}\\np-value: {p:.4}\")"
   ]
  },
  {
   "cell_type": "markdown",
   "id": "558d96fa",
   "metadata": {},
   "source": [
    "**p < alpha, so we can reject the null hypothesis and say there is probably a a linear correlation between 2017_age and home value.** "
   ]
  },
  {
   "cell_type": "markdown",
   "id": "iraqi-sellers",
   "metadata": {},
   "source": [
    "### Exploration Summary\n",
    "* ```square_feet``` has the highest correlation coefficient so I will use it in my model.\n",
    "* ```bed_bath_ratio```, ```2017_age```, and ```county``` all show a relationship with home value so I will also take them to my model."
   ]
  },
  {
   "cell_type": "markdown",
   "id": "bee611a0",
   "metadata": {},
   "source": [
    "### Features I'm moving on with\n",
    "| Feature | Reason | \n",
    "|:--------|:-----------|\n",
    "|**square_feet**| From our Spearman's R test we saw that there is a 0.48 correlation between ```square_feet``` and ```home_value```|\n",
    "|**bath_bed_ratio**| From our Spearman's R test we saw that there is a 0.32 correlation between ```bath_bed_ratio``` and ```home_value```|\n",
    "|**2017_age**| From our Pearson's R test we saw that there is a 0.32 correlation between ```2017_age``` and ```home_value```|\n",
    "|**county**| From our ANOVA test we see that there is a difference between the home values in each county|"
   ]
  },
  {
   "cell_type": "code",
   "execution_count": 15,
   "id": "1e3b5f83",
   "metadata": {},
   "outputs": [],
   "source": [
    "#save drivers into a list\n",
    "drivers = ['square_feet', 'bath_bed_ratio', '2017_age', 'county']"
   ]
  },
  {
   "cell_type": "markdown",
   "id": "8a419e13",
   "metadata": {},
   "source": [
    "### Features I'm not moving on with\n",
    "\n",
    "| Feature | Reason \n",
    "|:--------|:-----------\n",
    "|**parcelid**| id number that is not needed in the model\n",
    "| **bathroooms** | Represented in the ```bath_bed_ratio``` so it would be redundant.\n",
    "| **bedrooms** | Represented in the ```bath_bed_ratio``` so it would be redundant.\n",
    "|**year_built**| Represented in the ```2017_age``` so it would be redundant.\n",
    "|**county**| Name of the county where the house is located| *string*|"
   ]
  },
  {
   "cell_type": "markdown",
   "id": "minus-tulsa",
   "metadata": {},
   "source": [
    "# Modeling"
   ]
  },
  {
   "cell_type": "markdown",
   "id": "emotional-purchase",
   "metadata": {},
   "source": [
    "### Prep for modeling\n",
    "* I scaled the drivers using the minmax scaler\n",
    "* Split the data into where ```home_value``` is the target variable"
   ]
  },
  {
   "cell_type": "code",
   "execution_count": 16,
   "id": "24840c3e",
   "metadata": {},
   "outputs": [],
   "source": [
    "#prepare data for modeling\n",
    "X_train, y_train, X_validate, y_validate, X_test, y_test = w.prep_for_model(train, validate, test, 'home_value', drivers)"
   ]
  },
  {
   "cell_type": "markdown",
   "id": "4c5cec5c",
   "metadata": {},
   "source": [
    "### Baseline models\n",
    "* Looked at both using mean and median as a baseline model.\n",
    "* Mean baseline performed better on the in-sample and out-of sample data SO I went with mean."
   ]
  },
  {
   "cell_type": "code",
   "execution_count": 17,
   "id": "a9bf6669",
   "metadata": {},
   "outputs": [
    {
     "data": {
      "text/html": [
       "<div>\n",
       "<style scoped>\n",
       "    .dataframe tbody tr th:only-of-type {\n",
       "        vertical-align: middle;\n",
       "    }\n",
       "\n",
       "    .dataframe tbody tr th {\n",
       "        vertical-align: top;\n",
       "    }\n",
       "\n",
       "    .dataframe thead th {\n",
       "        text-align: right;\n",
       "    }\n",
       "</style>\n",
       "<table border=\"1\" class=\"dataframe\">\n",
       "  <thead>\n",
       "    <tr style=\"text-align: right;\">\n",
       "      <th></th>\n",
       "      <th>model</th>\n",
       "      <th>RMSE_train</th>\n",
       "      <th>RMSE_validate</th>\n",
       "      <th>Difference</th>\n",
       "    </tr>\n",
       "  </thead>\n",
       "  <tbody>\n",
       "    <tr>\n",
       "      <th>0</th>\n",
       "      <td>mean_baseline</td>\n",
       "      <td>313878.807820</td>\n",
       "      <td>312799.264162</td>\n",
       "      <td>1079.543658</td>\n",
       "    </tr>\n",
       "    <tr>\n",
       "      <th>1</th>\n",
       "      <td>median_baseline</td>\n",
       "      <td>320546.288486</td>\n",
       "      <td>319026.131853</td>\n",
       "      <td>1520.156633</td>\n",
       "    </tr>\n",
       "  </tbody>\n",
       "</table>\n",
       "</div>"
      ],
      "text/plain": [
       "             model     RMSE_train  RMSE_validate   Difference\n",
       "0    mean_baseline  313878.807820  312799.264162  1079.543658\n",
       "1  median_baseline  320546.288486  319026.131853  1520.156633"
      ]
     },
     "execution_count": 17,
     "metadata": {},
     "output_type": "execute_result"
    }
   ],
   "source": [
    "#run baseline models mean and median\n",
    "m.baseline_models(y_train, y_validate)"
   ]
  },
  {
   "cell_type": "markdown",
   "id": "0387b5eb",
   "metadata": {},
   "source": [
    "### Model Comparison"
   ]
  },
  {
   "cell_type": "code",
   "execution_count": 18,
   "id": "bfaad81d",
   "metadata": {},
   "outputs": [
    {
     "data": {
      "text/html": [
       "<div>\n",
       "<style scoped>\n",
       "    .dataframe tbody tr th:only-of-type {\n",
       "        vertical-align: middle;\n",
       "    }\n",
       "\n",
       "    .dataframe tbody tr th {\n",
       "        vertical-align: top;\n",
       "    }\n",
       "\n",
       "    .dataframe thead th {\n",
       "        text-align: right;\n",
       "    }\n",
       "</style>\n",
       "<table border=\"1\" class=\"dataframe\">\n",
       "  <thead>\n",
       "    <tr style=\"text-align: right;\">\n",
       "      <th></th>\n",
       "      <th>model</th>\n",
       "      <th>RMSE_train</th>\n",
       "      <th>r^2_train</th>\n",
       "      <th>RMSE_validate</th>\n",
       "      <th>r^2_validate</th>\n",
       "    </tr>\n",
       "  </thead>\n",
       "  <tbody>\n",
       "    <tr>\n",
       "      <th>0</th>\n",
       "      <td>OLS Regressor</td>\n",
       "      <td>258979.286048</td>\n",
       "      <td>0.319221</td>\n",
       "      <td>255023.466108</td>\n",
       "      <td>0.335266</td>\n",
       "    </tr>\n",
       "    <tr>\n",
       "      <th>1</th>\n",
       "      <td>Lasso_alpha_1</td>\n",
       "      <td>258979.859230</td>\n",
       "      <td>0.319218</td>\n",
       "      <td>255020.856580</td>\n",
       "      <td>0.335280</td>\n",
       "    </tr>\n",
       "    <tr>\n",
       "      <th>2</th>\n",
       "      <td>GLM</td>\n",
       "      <td>266071.034814</td>\n",
       "      <td>0.281426</td>\n",
       "      <td>264905.702635</td>\n",
       "      <td>0.282763</td>\n",
       "    </tr>\n",
       "    <tr>\n",
       "      <th>3</th>\n",
       "      <td>Quadratic</td>\n",
       "      <td>252612.889098</td>\n",
       "      <td>0.352280</td>\n",
       "      <td>248837.686557</td>\n",
       "      <td>0.367126</td>\n",
       "    </tr>\n",
       "  </tbody>\n",
       "</table>\n",
       "</div>"
      ],
      "text/plain": [
       "           model     RMSE_train  r^2_train  RMSE_validate  r^2_validate\n",
       "0  OLS Regressor  258979.286048   0.319221  255023.466108      0.335266\n",
       "1  Lasso_alpha_1  258979.859230   0.319218  255020.856580      0.335280\n",
       "2            GLM  266071.034814   0.281426  264905.702635      0.282763\n",
       "3      Quadratic  252612.889098   0.352280  248837.686557      0.367126"
      ]
     },
     "execution_count": 18,
     "metadata": {},
     "output_type": "execute_result"
    }
   ],
   "source": [
    "#run and compare models\n",
    "m.regression_models(X_train, y_train, X_validate, y_validate)"
   ]
  },
  {
   "cell_type": "markdown",
   "id": "bright-evans",
   "metadata": {},
   "source": [
    "### Comparing Models\n",
    "* All models perfomed better than baseline for both train and validate data.\n",
    "* It was interesting that OLS Regressor and Lasso Lars both performed better on the out-of-sample data."
   ]
  },
  {
   "cell_type": "markdown",
   "id": "regulated-fellowship",
   "metadata": {},
   "source": [
    "### Best model: Random Forest Model \n",
    "* I chose the quadratic model (linear regression with polynomial features) because the difference in $r^2 score$ between the train and validate was around 1% and they were both higher than the other models\n",
    "* I will now run the that model on test data to gauge how it will perform on future data"
   ]
  },
  {
   "cell_type": "code",
   "execution_count": 19,
   "id": "4fac6a92",
   "metadata": {},
   "outputs": [
    {
     "data": {
      "text/html": [
       "<div>\n",
       "<style scoped>\n",
       "    .dataframe tbody tr th:only-of-type {\n",
       "        vertical-align: middle;\n",
       "    }\n",
       "\n",
       "    .dataframe tbody tr th {\n",
       "        vertical-align: top;\n",
       "    }\n",
       "\n",
       "    .dataframe thead th {\n",
       "        text-align: right;\n",
       "    }\n",
       "</style>\n",
       "<table border=\"1\" class=\"dataframe\">\n",
       "  <thead>\n",
       "    <tr style=\"text-align: right;\">\n",
       "      <th></th>\n",
       "      <th>model</th>\n",
       "      <th>RMSE_train</th>\n",
       "      <th>r^2_train</th>\n",
       "      <th>RMSE_validate</th>\n",
       "      <th>r^2_validate</th>\n",
       "      <th>RMSE_test</th>\n",
       "      <th>r^2_test</th>\n",
       "    </tr>\n",
       "  </thead>\n",
       "  <tbody>\n",
       "    <tr>\n",
       "      <th>0</th>\n",
       "      <td>Quadratic</td>\n",
       "      <td>252612.889098</td>\n",
       "      <td>0.35228</td>\n",
       "      <td>248837.686557</td>\n",
       "      <td>0.367126</td>\n",
       "      <td>251598.306307</td>\n",
       "      <td>0.353342</td>\n",
       "    </tr>\n",
       "  </tbody>\n",
       "</table>\n",
       "</div>"
      ],
      "text/plain": [
       "       model     RMSE_train  r^2_train  RMSE_validate  r^2_validate  \\\n",
       "0  Quadratic  252612.889098    0.35228  248837.686557      0.367126   \n",
       "\n",
       "       RMSE_test  r^2_test  \n",
       "0  251598.306307  0.353342  "
      ]
     },
     "execution_count": 19,
     "metadata": {},
     "output_type": "execute_result"
    }
   ],
   "source": [
    "m.best_model(X_train, y_train, X_validate, y_validate, X_test, y_test)"
   ]
  },
  {
   "cell_type": "markdown",
   "id": "fc24d1d6",
   "metadata": {},
   "source": [
    "**This model performs better than baseline and with very similar accuracy across all three data sets (train, validate and test).**"
   ]
  },
  {
   "cell_type": "markdown",
   "id": "tutorial-twelve",
   "metadata": {},
   "source": [
    "## Conclusion\n",
    "\n",
    "### Summary\n",
    "* ```square_feet``` seems to be a driver of home value\n",
    "* ```bath_bed_ratio``` seems to be a driver of home value\n",
    "* ```county``` seems to be a driver of home value\n",
    "* ```2017_age``` seems to be a driver of home value\n",
    "\n",
    "\n",
    "### Recommendations\n",
    "* We should do more research of the areas where these houses are located to have a better understanding of how location is driving home value.\n",
    "* Dive into our data and see what information has been corrupted and delete those rows so that we can make sure we are using as accurate data as we can.\n",
    "\n",
    "### Next Steps\n",
    "* In the next iteration:\n",
    "    * Look into neighborhoods, and exact location of the houses to see if that will help the model perform better.\n",
    "    * Look into other features of the house (garage, pool, deck, etc.) to see if they are also drivers of home value."
   ]
  },
  {
   "cell_type": "code",
   "execution_count": null,
   "id": "24890d33",
   "metadata": {},
   "outputs": [],
   "source": []
  }
 ],
 "metadata": {
  "kernelspec": {
   "display_name": "Python 3 (ipykernel)",
   "language": "python",
   "name": "python3"
  },
  "language_info": {
   "codemirror_mode": {
    "name": "ipython",
    "version": 3
   },
   "file_extension": ".py",
   "mimetype": "text/x-python",
   "name": "python",
   "nbconvert_exporter": "python",
   "pygments_lexer": "ipython3",
   "version": "3.9.12"
  }
 },
 "nbformat": 4,
 "nbformat_minor": 5
}
