{
 "cells": [
  {
   "cell_type": "markdown",
   "id": "premier-milan",
   "metadata": {},
   "source": [
    "# Home Value Prediction\n",
    "\n",
    "## Project Goals\n",
    "* Identify key features that can be used to create an effective predictive model.\n",
    "* Use regression models to make house price predictions.\n",
    "* Use findings to make recommendations and establish a foundation for future work to improve model's performance."
   ]
  },
  {
   "cell_type": "markdown",
   "id": "going-assembly",
   "metadata": {},
   "source": [
    "## Imports"
   ]
  },
  {
   "cell_type": "code",
   "execution_count": 1,
   "id": "divided-poster",
   "metadata": {},
   "outputs": [],
   "source": [
    "#list all of the imports I used in this notebook or in a module\n",
    "import pandas as pd\n",
    "import numpy as np\n",
    "import matplotlib.pyplot as plt\n",
    "import seaborn as sns\n",
    "import os\n",
    "from scipy import stats\n",
    "from sklearn.model_selection import train_test_split\n",
    "\n",
    "import warnings\n",
    "warnings.filterwarnings(\"ignore\")\n",
    "\n",
    "#import my personal modules created for this report\n",
    "import wrangle as w\n",
    "#import explore as e\n",
    "#import model as m"
   ]
  },
  {
   "cell_type": "markdown",
   "id": "criminal-glory",
   "metadata": {},
   "source": [
    "## Acquire\n",
    "\n",
    "* Data acquired from the Codeup mySQL server on November 16, 2022\n",
    "* It contained 52,441 rows and 6 columns\n",
    "* Each observation represents a single-family home\n",
    "* Each column represents a feature of those homes"
   ]
  },
  {
   "cell_type": "code",
   "execution_count": 2,
   "id": "8e7703ef",
   "metadata": {},
   "outputs": [],
   "source": [
    "#import unclean data from Codeup mySQL server\n",
    "zillow_unclean = w.acquire_zillow_data()"
   ]
  },
  {
   "cell_type": "markdown",
   "id": "impossible-bible",
   "metadata": {},
   "source": [
    "## Prepare\n",
    "\n",
    "#### Dropped rows:\n",
    "* Duplicates   \n",
    "* Rows having 0 bedrooms AND 0 bathrooms \n",
    "* Rows having more than 10,000 square feet (because these are large and can scew the data)\n",
    "* Rows containing null values in any column\n",
    "\n",
    "#### Created features\n",
    "* ```county``` (names based on the fips code):  \n",
    "    - 6037: LA\n",
    "    - 6059: Orange \n",
    "    - 6111: Ventura \n",
    "* ```bath_bed_ratio``` \n",
    "    - Column displaying bathrooms/bedrooms\n",
    "\n",
    "#### Other prep\n",
    "* Split data into train, validate, and test (65/20/15)"
   ]
  },
  {
   "cell_type": "code",
   "execution_count": 3,
   "id": "b70e0cdc",
   "metadata": {},
   "outputs": [],
   "source": [
    "#split and prepare the data for exploration and modeling\n",
    "train_exp, X_train, y_train, \\\n",
    "X_validate, y_validate, \\\n",
    "X_test, y_test = w.big_zillow_wrangle(zillow_unclean, 'home_value')"
   ]
  },
  {
   "cell_type": "markdown",
   "id": "cf54e5e1",
   "metadata": {},
   "source": [
    "### Data dictionary\n",
    "| Feature | Definition | Type |\n",
    "|:--------|:-----------|:-------\n",
    "| **bathroooms** | The number of bathrooms in the home. |\n",
    "| bedrooms | The number of bedrooms in the home. |\n",
    "|**???**| Definition| *type*|\n",
    "|**???**| Definition| *type*|\n",
    "|**???**| Definition| *type*|\n",
    "|**???**| Definition| *type*|\n",
    "|**???**| Definition| *type*|\n",
    "|**Target variable**\n",
    "|**home_value**| The tax-assessed value of the home. | *float* |"
   ]
  },
  {
   "cell_type": "markdown",
   "id": "e05229cb",
   "metadata": {},
   "source": [
    "### A look at the data"
   ]
  },
  {
   "cell_type": "code",
   "execution_count": 4,
   "id": "f8f1eb5e",
   "metadata": {
    "scrolled": false
   },
   "outputs": [
    {
     "data": {
      "text/html": [
       "<div>\n",
       "<style scoped>\n",
       "    .dataframe tbody tr th:only-of-type {\n",
       "        vertical-align: middle;\n",
       "    }\n",
       "\n",
       "    .dataframe tbody tr th {\n",
       "        vertical-align: top;\n",
       "    }\n",
       "\n",
       "    .dataframe thead th {\n",
       "        text-align: right;\n",
       "    }\n",
       "</style>\n",
       "<table border=\"1\" class=\"dataframe\">\n",
       "  <thead>\n",
       "    <tr style=\"text-align: right;\">\n",
       "      <th></th>\n",
       "      <th>parcelid</th>\n",
       "      <th>bathrooms</th>\n",
       "      <th>bedrooms</th>\n",
       "      <th>home_value</th>\n",
       "      <th>square_feet</th>\n",
       "      <th>year_built</th>\n",
       "      <th>bath_bed_ratio</th>\n",
       "      <th>county</th>\n",
       "    </tr>\n",
       "  </thead>\n",
       "  <tbody>\n",
       "    <tr>\n",
       "      <th>2626</th>\n",
       "      <td>11886205</td>\n",
       "      <td>2.0</td>\n",
       "      <td>3</td>\n",
       "      <td>833611.0</td>\n",
       "      <td>2454</td>\n",
       "      <td>1933</td>\n",
       "      <td>0.666667</td>\n",
       "      <td>LA</td>\n",
       "    </tr>\n",
       "    <tr>\n",
       "      <th>19606</th>\n",
       "      <td>12412300</td>\n",
       "      <td>3.0</td>\n",
       "      <td>5</td>\n",
       "      <td>435860.0</td>\n",
       "      <td>2274</td>\n",
       "      <td>1976</td>\n",
       "      <td>0.600000</td>\n",
       "      <td>LA</td>\n",
       "    </tr>\n",
       "    <tr>\n",
       "      <th>40531</th>\n",
       "      <td>13954406</td>\n",
       "      <td>1.5</td>\n",
       "      <td>3</td>\n",
       "      <td>490013.0</td>\n",
       "      <td>1628</td>\n",
       "      <td>1959</td>\n",
       "      <td>0.500000</td>\n",
       "      <td>Orange</td>\n",
       "    </tr>\n",
       "    <tr>\n",
       "      <th>30010</th>\n",
       "      <td>11667890</td>\n",
       "      <td>3.0</td>\n",
       "      <td>3</td>\n",
       "      <td>1791473.0</td>\n",
       "      <td>2106</td>\n",
       "      <td>1973</td>\n",
       "      <td>1.000000</td>\n",
       "      <td>LA</td>\n",
       "    </tr>\n",
       "    <tr>\n",
       "      <th>5478</th>\n",
       "      <td>12184817</td>\n",
       "      <td>2.0</td>\n",
       "      <td>4</td>\n",
       "      <td>304269.0</td>\n",
       "      <td>1482</td>\n",
       "      <td>1915</td>\n",
       "      <td>0.500000</td>\n",
       "      <td>LA</td>\n",
       "    </tr>\n",
       "  </tbody>\n",
       "</table>\n",
       "</div>"
      ],
      "text/plain": [
       "       parcelid  bathrooms  bedrooms  home_value  square_feet  year_built  \\\n",
       "2626   11886205        2.0         3    833611.0         2454        1933   \n",
       "19606  12412300        3.0         5    435860.0         2274        1976   \n",
       "40531  13954406        1.5         3    490013.0         1628        1959   \n",
       "30010  11667890        3.0         3   1791473.0         2106        1973   \n",
       "5478   12184817        2.0         4    304269.0         1482        1915   \n",
       "\n",
       "       bath_bed_ratio  county  \n",
       "2626         0.666667      LA  \n",
       "19606        0.600000      LA  \n",
       "40531        0.500000  Orange  \n",
       "30010        1.000000      LA  \n",
       "5478         0.500000      LA  "
      ]
     },
     "execution_count": 4,
     "metadata": {},
     "output_type": "execute_result"
    }
   ],
   "source": [
    "#show the first few rows of the train data\n",
    "train_exp.head()"
   ]
  },
  {
   "cell_type": "markdown",
   "id": "immediate-mirror",
   "metadata": {},
   "source": [
    "## Explore"
   ]
  },
  {
   "cell_type": "markdown",
   "id": "2b06e4e4",
   "metadata": {},
   "source": [
    "### 1. What percentage of our customers have churned?"
   ]
  },
  {
   "cell_type": "code",
   "execution_count": null,
   "id": "39ed3dee",
   "metadata": {},
   "outputs": [],
   "source": [
    "#show percentage of customers who churned from the train data\n",
    "e.churn_percentage(train)"
   ]
  },
  {
   "cell_type": "markdown",
   "id": "f1ceae24",
   "metadata": {},
   "source": [
    "**A little over 1/4 of customers in the training data churn.**"
   ]
  },
  {
   "cell_type": "markdown",
   "id": "d4968c6b",
   "metadata": {},
   "source": [
    "## 2. Does a customer's tenure affect churn? "
   ]
  },
  {
   "cell_type": "code",
   "execution_count": null,
   "id": "26f597b6",
   "metadata": {},
   "outputs": [],
   "source": [
    "#plot tenure of those who churned and didn't churn\n",
    "e.tenure_viz(train)"
   ]
  },
  {
   "cell_type": "markdown",
   "id": "92fd4878",
   "metadata": {},
   "source": [
    "**It looks like those who have been a customer a shorter amount of time churn more**"
   ]
  },
  {
   "cell_type": "markdown",
   "id": "98380cef",
   "metadata": {},
   "source": [
    "**In order to confirm this prediction, I will now do a T-test to test for a significant difference between tenure of those who churn and don't churn**\n",
    "* My confidence interval is 95%\n",
    "* Resulting alpha is .05"
   ]
  },
  {
   "cell_type": "code",
   "execution_count": null,
   "id": "682dcb1b",
   "metadata": {},
   "outputs": [],
   "source": [
    "#set alpha for my testing\n",
    "alpha = 0.05"
   ]
  },
  {
   "cell_type": "markdown",
   "id": "cb597003",
   "metadata": {},
   "source": [
    "**To run a T-test we have to check our assumptions**\n",
    "* **Independent:** Yes. Two separate groups churn and no_churn\n",
    "* **Normal distribution:** Yes. Enough observations\n",
    "* **Equal variances:** After running the ```stats.levene```, p < alpha so they are NOT equal and we must use ```equal_var = False```"
   ]
  },
  {
   "cell_type": "markdown",
   "id": "e3e74276",
   "metadata": {},
   "source": [
    "**Set Hypothesis**\n",
    "\n",
    "$H_0$ = There is no difference in tenure between those who churn and don't churn \n",
    "\n",
    "$H_a$ = There is a difference in tenure between those who churn and don't churn "
   ]
  },
  {
   "cell_type": "code",
   "execution_count": null,
   "id": "7ef4cd54",
   "metadata": {},
   "outputs": [],
   "source": [
    "#run t-test and get results\n",
    "e.tenure_ttest(train)"
   ]
  },
  {
   "cell_type": "markdown",
   "id": "6c2db123",
   "metadata": {},
   "source": [
    "**p < alpha, so we can reject the null hypothesis and say there is probably a difference in tenure between those who churn and don't churn.** \n",
    "\n",
    "***Based on the visualizations and the results from the T-test, I think that tenure should be used in my model to help with the model's accuracy.***"
   ]
  },
  {
   "cell_type": "markdown",
   "id": "c85e2983",
   "metadata": {},
   "source": [
    "## 3. Do higher monthly charges affect churn?"
   ]
  },
  {
   "cell_type": "code",
   "execution_count": null,
   "id": "bbdbb6c3",
   "metadata": {},
   "outputs": [],
   "source": [
    "#plot monthly charges of those who churned and didn't churn\n",
    "e.monthly_charges_viz(train)"
   ]
  },
  {
   "cell_type": "markdown",
   "id": "621dbe35",
   "metadata": {},
   "source": [
    "**It looks like those who churn have higher monthly charges**"
   ]
  },
  {
   "cell_type": "markdown",
   "id": "b7f18c58",
   "metadata": {},
   "source": [
    "**In order to confirm this prediction, I will now do a T-test to test if average monthly charges of those who churn are higher than those who don't churn**\n",
    "* My confidence interval is 95%\n",
    "* Resulting alpha is .05"
   ]
  },
  {
   "cell_type": "markdown",
   "id": "95891eab",
   "metadata": {},
   "source": [
    "**To run a T-test we have to check our assumptions**\n",
    "* **Independent:** Yes. Two separate groups churn and no_churn\n",
    "* **Normal distribution:** Yes. Enough observations\n",
    "* **Equal variances:** After running the ```stats.levene```, p < alpha so they are NOT equal and we must use ```equal_var = False```"
   ]
  },
  {
   "cell_type": "markdown",
   "id": "aad81067",
   "metadata": {},
   "source": [
    "$H_0$ = Average monthly charges of those who churn $\\leq$ average monthly charges of those who don't churn\n",
    "\n",
    "$H_a$ = Average monthly charges of those who churn $>$ average monthly charges of those who don't churn"
   ]
  },
  {
   "cell_type": "code",
   "execution_count": null,
   "id": "e11e4e97",
   "metadata": {},
   "outputs": [],
   "source": [
    "#run t-test and get results\n",
    "e.monthly_charges_ttest(train)"
   ]
  },
  {
   "cell_type": "markdown",
   "id": "20b67a47",
   "metadata": {},
   "source": [
    "**Since t > 0 and p/2 < alpha we can reject the null hypothesis and say monthly charges of those who churn are higher than those who don't churn.**\n",
    "\n",
    "***Based on the visualizations and the results from the T-test, I think that monthly charges should be used in my model to help with the model's accuracy.***"
   ]
  },
  {
   "cell_type": "markdown",
   "id": "b20e7292",
   "metadata": {},
   "source": [
    "## 4. Does contract type affect churn?"
   ]
  },
  {
   "cell_type": "code",
   "execution_count": null,
   "id": "d675eac0",
   "metadata": {},
   "outputs": [],
   "source": [
    "#plot different contract types compared to churn\n",
    "e.contract_type_viz(train)"
   ]
  },
  {
   "cell_type": "markdown",
   "id": "83cb0a0d",
   "metadata": {},
   "source": [
    "**It looks like those who have a month-to-month contract churn well above the average churn rate. I predict there is a relationship between contract type and churn**"
   ]
  },
  {
   "cell_type": "markdown",
   "id": "87f58841",
   "metadata": {},
   "source": [
    "**In order to confirm this prediction, I will now do a $\\chi^2$ test to check if there is a relationship between contract type and churn**\n",
    "* My confidence interval is 95%\n",
    "* Resulting alpha is .05"
   ]
  },
  {
   "cell_type": "markdown",
   "id": "7a6c9b86",
   "metadata": {},
   "source": [
    "$H_0$ = Contract type and churn are not related.\n",
    "\n",
    "$H_a$ = Contract type and churn are related."
   ]
  },
  {
   "cell_type": "code",
   "execution_count": null,
   "id": "303b4978",
   "metadata": {},
   "outputs": [],
   "source": [
    "#run χ^2 test and get results\n",
    "e.contract_type_chi(train)"
   ]
  },
  {
   "cell_type": "markdown",
   "id": "2e2b336b",
   "metadata": {},
   "source": [
    "**Based on the visualizations and the results from the $\\chi^2$ test, I think that contract type should be used in my model to help with the model's accuracy.**"
   ]
  },
  {
   "cell_type": "markdown",
   "id": "51341378",
   "metadata": {},
   "source": [
    "## 5. Do those with no tech support churn more?"
   ]
  },
  {
   "cell_type": "code",
   "execution_count": null,
   "id": "5e68f94d",
   "metadata": {},
   "outputs": [],
   "source": [
    "#plot tech support customers compared to churn\n",
    "e.tech_support_viz(train)"
   ]
  },
  {
   "cell_type": "markdown",
   "id": "9bbd5d46",
   "metadata": {},
   "source": [
    "**It looks like those who don't have tech suport might churn more. I predict there is a relationship between having tech support and churn**"
   ]
  },
  {
   "cell_type": "markdown",
   "id": "90fdbf34",
   "metadata": {},
   "source": [
    "$H_0$ = There is no relationship between having tech support and churn.\n",
    "\n",
    "$H_a$ = There is a relationship between having tech support and churn."
   ]
  },
  {
   "cell_type": "code",
   "execution_count": null,
   "id": "c13c7f06",
   "metadata": {},
   "outputs": [],
   "source": [
    "#run χ^2 test and get results\n",
    "e.tech_support_chi(train)"
   ]
  },
  {
   "cell_type": "markdown",
   "id": "73b67274",
   "metadata": {},
   "source": [
    "**p < alpha, we can reject the null hypothesis and say there is evidence that tech support and churn are related.**\n",
    "\n",
    "**Based on the visualizations and the results from the $\\chi^2$ test, I think that tech support should be used in my model to help with the model's accuracy.**"
   ]
  },
  {
   "cell_type": "markdown",
   "id": "iraqi-sellers",
   "metadata": {},
   "source": [
    "### Exploration Summary\n",
    "* Tenure seems to be a driver of churn\n",
    "* Monthly_charges seem to be a driver of churn\n",
    "* Contract_type seems to be a driver of churn\n",
    "* Tech_support seems to be a driver of churn"
   ]
  },
  {
   "cell_type": "markdown",
   "id": "bee611a0",
   "metadata": {},
   "source": [
    "### Features I'm moving on with\n",
    "| Feature | Reason | \n",
    "|:--------|:-----------|\n",
    "|tenure| From our t-test we saw there is probably a difference in tenure between those who churn and don't churn.|\n",
    "|monthly_charges| From our t-test we saw there is probably a difference in monthly charges between those who churn and don't churn.|\n",
    "|contract_type| From our $\\chi^2$ test we saw there is probably a relationship between contract type and churn.|\n",
    "|tech_support| From our $\\chi^2$ test we saw there is probably a relationship between contract type and churn.|"
   ]
  },
  {
   "cell_type": "code",
   "execution_count": null,
   "id": "1e3b5f83",
   "metadata": {},
   "outputs": [],
   "source": [
    "#save drivers into a list\n",
    "drivers = ['churn_encoded', 'tenure', 'monthly_charges', 'contract_type', 'tech_support']"
   ]
  },
  {
   "cell_type": "markdown",
   "id": "8a419e13",
   "metadata": {},
   "source": [
    "### Features I'm not moving on with\n",
    "\n",
    "| Feature | Reason | \n",
    "|:--------|:-----------|\n",
    "|gender| No evidence that gender is a driver of churn\n",
    "|senior_citizen| No evidence that senior_citizen is a driver of churn\n",
    "|partner| Remove noise\n",
    "|dependents| Remove noise\n",
    "|phone_service| No evidence that phone_service is a driver of churn\n",
    "|multiple_lines| No evidence that multiple_lines is a driver of churn\n",
    "|online_security| Remove noise\n",
    "|online_backup| Remove noise\n",
    "|device_protection| Remove noise\n",
    "|streaming_tv| Remove noise\n",
    "|streaming_movies| Remove noise\n",
    "|paperless_billing| Remove noise\n",
    "|total_charges| There is a strong correlation between total_charges and tenure and between total_charges and monthly_charges. Since I will take tenure and monthly_charges into my model, total_charges is not needed.\n",
    "|internet_service_type| Remove noise\n",
    "|payment_type| Remove noise\n"
   ]
  },
  {
   "cell_type": "markdown",
   "id": "minus-tulsa",
   "metadata": {},
   "source": [
    "# Modeling\n",
    "\n",
    "* I will use accuracy as my evaluation metric\n",
    "* I had looked at recall, but we cannot determine that false negatives are more costly unless we get more information from the company.\n",
    "* Didn't churn customers make up 73% of the train data"
   ]
  },
  {
   "cell_type": "code",
   "execution_count": null,
   "id": "9efad544",
   "metadata": {},
   "outputs": [],
   "source": [
    "#prepare data for modeling\n",
    "X_train, y_train, X_validate, y_validate, X_test, y_test = m.prep_for_model(train, validate, test, \"churn_encoded\", drivers)"
   ]
  },
  {
   "cell_type": "code",
   "execution_count": null,
   "id": "ranging-rebecca",
   "metadata": {},
   "outputs": [],
   "source": [
    "#baseline based on the percentage of the mode\n",
    "baseline = y_train.value_counts(normalize=True).max()\n",
    "#print results\n",
    "print(f'Baseline accuracy: {baseline:.2%}')"
   ]
  },
  {
   "cell_type": "markdown",
   "id": "emotional-purchase",
   "metadata": {},
   "source": [
    "### Model Testing\n",
    "* I evaluated on the four different model types and various hyperparameter configurations below\n",
    "* Models were evaluated on train and validate data to prevent overfitting\n",
    "* The model that performed the best was then run on the test data"
   ]
  },
  {
   "cell_type": "markdown",
   "id": "0387b5eb",
   "metadata": {},
   "source": [
    "### Decision Tree"
   ]
  },
  {
   "cell_type": "code",
   "execution_count": null,
   "id": "164f2510",
   "metadata": {},
   "outputs": [],
   "source": [
    "#get decision tree model results\n",
    "m.decision_tree_results(X_train, y_train, X_validate, y_validate)"
   ]
  },
  {
   "cell_type": "markdown",
   "id": "intensive-vietnamese",
   "metadata": {},
   "source": [
    "### Random Forest"
   ]
  },
  {
   "cell_type": "code",
   "execution_count": null,
   "id": "fc3d0b83",
   "metadata": {},
   "outputs": [],
   "source": [
    "#get random forest model results\n",
    "m.random_forest_results(X_train, y_train, X_validate, y_validate)"
   ]
  },
  {
   "cell_type": "markdown",
   "id": "ebce7486",
   "metadata": {},
   "source": [
    "### KNN"
   ]
  },
  {
   "cell_type": "code",
   "execution_count": null,
   "id": "1d938ce5",
   "metadata": {},
   "outputs": [],
   "source": [
    "#get KNN model results\n",
    "m.knn_results(X_train, y_train, X_validate, y_validate)"
   ]
  },
  {
   "cell_type": "markdown",
   "id": "9b6e54e4",
   "metadata": {},
   "source": [
    "### Logistic Regression"
   ]
  },
  {
   "cell_type": "code",
   "execution_count": null,
   "id": "64577e05",
   "metadata": {},
   "outputs": [],
   "source": [
    "#get logistic regression model results\n",
    "m.log_results(X_train, y_train, X_validate, y_validate)"
   ]
  },
  {
   "cell_type": "markdown",
   "id": "bright-evans",
   "metadata": {},
   "source": [
    "### Comparing Models\n",
    "* All models perfomed better than baseline for both train and validate data.\n",
    "* KNN had a high train accuracy and lower validate accuracy so it is probably over fit."
   ]
  },
  {
   "cell_type": "markdown",
   "id": "regulated-fellowship",
   "metadata": {},
   "source": [
    "### Best model: Random Forest Model \n",
    "* I chose the random forest model because the difference in accuracy between the train and validate is less than 1%\n",
    "* I will now run the random forest model on test data to gauge how it will perform on future data"
   ]
  },
  {
   "cell_type": "code",
   "execution_count": null,
   "id": "4fac6a92",
   "metadata": {},
   "outputs": [],
   "source": [
    "#get best model results on test data\n",
    "m.best_model(X_train, y_train, X_test, y_test)"
   ]
  },
  {
   "cell_type": "markdown",
   "id": "fc24d1d6",
   "metadata": {},
   "source": [
    "**This model performs better than baseline and with very similar accuracy across all three data sets (train, validate and test).**"
   ]
  },
  {
   "cell_type": "code",
   "execution_count": null,
   "id": "7ad4f978",
   "metadata": {},
   "outputs": [],
   "source": [
    "#get best model results across all data\n",
    "m.best_model_comparison(X_train, y_train, X_validate, y_validate, X_test, y_test)"
   ]
  },
  {
   "cell_type": "markdown",
   "id": "tutorial-twelve",
   "metadata": {},
   "source": [
    "## Conclusion\n",
    "\n",
    "### Summary\n",
    "* About 1/4 of our customers churn\n",
    "* Tenure seems to be a driver of churn\n",
    "* Monthly_charges seem to be a driver of churn\n",
    "* Contract_type seems to be a driver of churn\n",
    "* Tech_support seems to be a driver of churn\n",
    "\n",
    "\n",
    "### Recommendations\n",
    "* To reduce churn, I would encourage the company to think about taking the following actions:\n",
    "    * Seek out young customers and give discounts (lower monthly cost) in order to keep customers longer (increase tenure)\n",
    "    * Seek out month-to-month contract customers and encourage them to sign a longer contract maybe through discounts\n",
    "    * Seek out those who don't have tech support and give a free trial of tech support.\n",
    "\n",
    "### Next Steps\n",
    "* In the next iteration:\n",
    "    * Look into how customers with internet add-ons are the same people then can see if they churn more or less.\n",
    "    * Look into cost of add-ons and see if there are bundles that might reduce monthly charges. That could help us entice more customers to stay."
   ]
  }
 ],
 "metadata": {
  "kernelspec": {
   "display_name": "Python 3 (ipykernel)",
   "language": "python",
   "name": "python3"
  },
  "language_info": {
   "codemirror_mode": {
    "name": "ipython",
    "version": 3
   },
   "file_extension": ".py",
   "mimetype": "text/x-python",
   "name": "python",
   "nbconvert_exporter": "python",
   "pygments_lexer": "ipython3",
   "version": "3.9.12"
  }
 },
 "nbformat": 4,
 "nbformat_minor": 5
}
